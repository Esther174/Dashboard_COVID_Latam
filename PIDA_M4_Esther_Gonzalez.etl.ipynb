{
 "cells": [
  {
   "cell_type": "markdown",
   "id": "2eebfc26",
   "metadata": {},
   "source": [
    "Avance 1 "
   ]
  },
  {
   "cell_type": "code",
   "execution_count": 4,
   "id": "f94555a4",
   "metadata": {},
   "outputs": [],
   "source": [
    "\n",
    "#cargo librerias que voy necesitando\n",
    "import numpy as np\n",
    "import pandas as pd"
   ]
  },
  {
   "cell_type": "code",
   "execution_count": 5,
   "id": "de5c385b",
   "metadata": {},
   "outputs": [],
   "source": [
    "#Leo el archivo que voy a utilizar \n",
    "data=pd.read_csv(\"d:/Users/usuario/Desktop/Modulo 4-henry/data_latinoamerica.csv\")"
   ]
  },
  {
   "cell_type": "markdown",
   "id": "0343d1ec",
   "metadata": {},
   "source": [
    "Lo primero que hago es conocer el dataset, por esta razon veo todas las columnas del mismo. "
   ]
  },
  {
   "cell_type": "code",
   "execution_count": 6,
   "id": "11e74800",
   "metadata": {},
   "outputs": [
    {
     "name": "stdout",
     "output_type": "stream",
     "text": [
      "Index(['location_key', 'date', 'country_code', 'country_name', 'new_confirmed',\n",
      "       'new_deceased', 'cumulative_confirmed', 'cumulative_deceased',\n",
      "       'cumulative_vaccine_doses_administered', 'population',\n",
      "       'population_male', 'population_female', 'population_rural',\n",
      "       'population_urban', 'population_density', 'human_development_index',\n",
      "       'population_age_00_09', 'population_age_10_19', 'population_age_20_29',\n",
      "       'population_age_30_39', 'population_age_40_49', 'population_age_50_59',\n",
      "       'population_age_60_69', 'population_age_70_79',\n",
      "       'population_age_80_and_older', 'gdp_usd', 'gdp_per_capita_usd',\n",
      "       'latitude', 'longitude', 'area_sq_km', 'smoking_prevalence',\n",
      "       'diabetes_prevalence', 'infant_mortality_rate', 'nurses_per_1000',\n",
      "       'physicians_per_1000', 'average_temperature_celsius',\n",
      "       'minimum_temperature_celsius', 'maximum_temperature_celsius',\n",
      "       'rainfall_mm', 'relative_humidity', 'population_largest_city',\n",
      "       'area_rural_sq_km', 'area_urban_sq_km', 'life_expectancy',\n",
      "       'adult_male_mortality_rate', 'adult_female_mortality_rate',\n",
      "       'pollution_mortality_rate', 'comorbidity_mortality_rate',\n",
      "       'new_recovered', 'cumulative_recovered'],\n",
      "      dtype='object')\n"
     ]
    }
   ],
   "source": [
    "print(data.columns)\n"
   ]
  },
  {
   "cell_type": "code",
   "execution_count": 7,
   "id": "6a55f76d",
   "metadata": {},
   "outputs": [
    {
     "data": {
      "text/html": [
       "<div>\n",
       "<style scoped>\n",
       "    .dataframe tbody tr th:only-of-type {\n",
       "        vertical-align: middle;\n",
       "    }\n",
       "\n",
       "    .dataframe tbody tr th {\n",
       "        vertical-align: top;\n",
       "    }\n",
       "\n",
       "    .dataframe thead th {\n",
       "        text-align: right;\n",
       "    }\n",
       "</style>\n",
       "<table border=\"1\" class=\"dataframe\">\n",
       "  <thead>\n",
       "    <tr style=\"text-align: right;\">\n",
       "      <th></th>\n",
       "      <th>location_key</th>\n",
       "      <th>date</th>\n",
       "      <th>country_code</th>\n",
       "      <th>country_name</th>\n",
       "      <th>new_confirmed</th>\n",
       "      <th>new_deceased</th>\n",
       "      <th>cumulative_confirmed</th>\n",
       "      <th>cumulative_deceased</th>\n",
       "      <th>cumulative_vaccine_doses_administered</th>\n",
       "      <th>population</th>\n",
       "      <th>...</th>\n",
       "      <th>population_largest_city</th>\n",
       "      <th>area_rural_sq_km</th>\n",
       "      <th>area_urban_sq_km</th>\n",
       "      <th>life_expectancy</th>\n",
       "      <th>adult_male_mortality_rate</th>\n",
       "      <th>adult_female_mortality_rate</th>\n",
       "      <th>pollution_mortality_rate</th>\n",
       "      <th>comorbidity_mortality_rate</th>\n",
       "      <th>new_recovered</th>\n",
       "      <th>cumulative_recovered</th>\n",
       "    </tr>\n",
       "  </thead>\n",
       "  <tbody>\n",
       "    <tr>\n",
       "      <th>0</th>\n",
       "      <td>AR</td>\n",
       "      <td>2020-01-01</td>\n",
       "      <td>AR</td>\n",
       "      <td>Argentina</td>\n",
       "      <td>3.0</td>\n",
       "      <td>0.0</td>\n",
       "      <td>3.0</td>\n",
       "      <td>0.0</td>\n",
       "      <td>NaN</td>\n",
       "      <td>44938712.0</td>\n",
       "      <td>...</td>\n",
       "      <td>15057273.0</td>\n",
       "      <td>2690269.0</td>\n",
       "      <td>55032.0</td>\n",
       "      <td>76.52</td>\n",
       "      <td>147.086</td>\n",
       "      <td>79.483</td>\n",
       "      <td>26.6</td>\n",
       "      <td>15.8</td>\n",
       "      <td>NaN</td>\n",
       "      <td>NaN</td>\n",
       "    </tr>\n",
       "    <tr>\n",
       "      <th>1</th>\n",
       "      <td>AR</td>\n",
       "      <td>2020-01-02</td>\n",
       "      <td>AR</td>\n",
       "      <td>Argentina</td>\n",
       "      <td>14.0</td>\n",
       "      <td>0.0</td>\n",
       "      <td>17.0</td>\n",
       "      <td>0.0</td>\n",
       "      <td>NaN</td>\n",
       "      <td>44938712.0</td>\n",
       "      <td>...</td>\n",
       "      <td>15057273.0</td>\n",
       "      <td>2690269.0</td>\n",
       "      <td>55032.0</td>\n",
       "      <td>76.52</td>\n",
       "      <td>147.086</td>\n",
       "      <td>79.483</td>\n",
       "      <td>26.6</td>\n",
       "      <td>15.8</td>\n",
       "      <td>NaN</td>\n",
       "      <td>NaN</td>\n",
       "    </tr>\n",
       "    <tr>\n",
       "      <th>2</th>\n",
       "      <td>AR</td>\n",
       "      <td>2020-01-03</td>\n",
       "      <td>AR</td>\n",
       "      <td>Argentina</td>\n",
       "      <td>3.0</td>\n",
       "      <td>0.0</td>\n",
       "      <td>20.0</td>\n",
       "      <td>0.0</td>\n",
       "      <td>NaN</td>\n",
       "      <td>44938712.0</td>\n",
       "      <td>...</td>\n",
       "      <td>15057273.0</td>\n",
       "      <td>2690269.0</td>\n",
       "      <td>55032.0</td>\n",
       "      <td>76.52</td>\n",
       "      <td>147.086</td>\n",
       "      <td>79.483</td>\n",
       "      <td>26.6</td>\n",
       "      <td>15.8</td>\n",
       "      <td>NaN</td>\n",
       "      <td>NaN</td>\n",
       "    </tr>\n",
       "    <tr>\n",
       "      <th>3</th>\n",
       "      <td>AR</td>\n",
       "      <td>2020-01-04</td>\n",
       "      <td>AR</td>\n",
       "      <td>Argentina</td>\n",
       "      <td>7.0</td>\n",
       "      <td>0.0</td>\n",
       "      <td>27.0</td>\n",
       "      <td>0.0</td>\n",
       "      <td>NaN</td>\n",
       "      <td>44938712.0</td>\n",
       "      <td>...</td>\n",
       "      <td>15057273.0</td>\n",
       "      <td>2690269.0</td>\n",
       "      <td>55032.0</td>\n",
       "      <td>76.52</td>\n",
       "      <td>147.086</td>\n",
       "      <td>79.483</td>\n",
       "      <td>26.6</td>\n",
       "      <td>15.8</td>\n",
       "      <td>NaN</td>\n",
       "      <td>NaN</td>\n",
       "    </tr>\n",
       "    <tr>\n",
       "      <th>4</th>\n",
       "      <td>AR</td>\n",
       "      <td>2020-01-05</td>\n",
       "      <td>AR</td>\n",
       "      <td>Argentina</td>\n",
       "      <td>5.0</td>\n",
       "      <td>0.0</td>\n",
       "      <td>32.0</td>\n",
       "      <td>0.0</td>\n",
       "      <td>NaN</td>\n",
       "      <td>44938712.0</td>\n",
       "      <td>...</td>\n",
       "      <td>15057273.0</td>\n",
       "      <td>2690269.0</td>\n",
       "      <td>55032.0</td>\n",
       "      <td>76.52</td>\n",
       "      <td>147.086</td>\n",
       "      <td>79.483</td>\n",
       "      <td>26.6</td>\n",
       "      <td>15.8</td>\n",
       "      <td>NaN</td>\n",
       "      <td>NaN</td>\n",
       "    </tr>\n",
       "    <tr>\n",
       "      <th>5</th>\n",
       "      <td>AR</td>\n",
       "      <td>2020-01-06</td>\n",
       "      <td>AR</td>\n",
       "      <td>Argentina</td>\n",
       "      <td>9.0</td>\n",
       "      <td>0.0</td>\n",
       "      <td>41.0</td>\n",
       "      <td>0.0</td>\n",
       "      <td>NaN</td>\n",
       "      <td>44938712.0</td>\n",
       "      <td>...</td>\n",
       "      <td>15057273.0</td>\n",
       "      <td>2690269.0</td>\n",
       "      <td>55032.0</td>\n",
       "      <td>76.52</td>\n",
       "      <td>147.086</td>\n",
       "      <td>79.483</td>\n",
       "      <td>26.6</td>\n",
       "      <td>15.8</td>\n",
       "      <td>NaN</td>\n",
       "      <td>NaN</td>\n",
       "    </tr>\n",
       "    <tr>\n",
       "      <th>6</th>\n",
       "      <td>AR</td>\n",
       "      <td>2020-01-07</td>\n",
       "      <td>AR</td>\n",
       "      <td>Argentina</td>\n",
       "      <td>4.0</td>\n",
       "      <td>0.0</td>\n",
       "      <td>45.0</td>\n",
       "      <td>0.0</td>\n",
       "      <td>NaN</td>\n",
       "      <td>44938712.0</td>\n",
       "      <td>...</td>\n",
       "      <td>15057273.0</td>\n",
       "      <td>2690269.0</td>\n",
       "      <td>55032.0</td>\n",
       "      <td>76.52</td>\n",
       "      <td>147.086</td>\n",
       "      <td>79.483</td>\n",
       "      <td>26.6</td>\n",
       "      <td>15.8</td>\n",
       "      <td>NaN</td>\n",
       "      <td>NaN</td>\n",
       "    </tr>\n",
       "    <tr>\n",
       "      <th>7</th>\n",
       "      <td>AR</td>\n",
       "      <td>2020-01-08</td>\n",
       "      <td>AR</td>\n",
       "      <td>Argentina</td>\n",
       "      <td>3.0</td>\n",
       "      <td>0.0</td>\n",
       "      <td>48.0</td>\n",
       "      <td>0.0</td>\n",
       "      <td>NaN</td>\n",
       "      <td>44938712.0</td>\n",
       "      <td>...</td>\n",
       "      <td>15057273.0</td>\n",
       "      <td>2690269.0</td>\n",
       "      <td>55032.0</td>\n",
       "      <td>76.52</td>\n",
       "      <td>147.086</td>\n",
       "      <td>79.483</td>\n",
       "      <td>26.6</td>\n",
       "      <td>15.8</td>\n",
       "      <td>NaN</td>\n",
       "      <td>NaN</td>\n",
       "    </tr>\n",
       "    <tr>\n",
       "      <th>8</th>\n",
       "      <td>AR</td>\n",
       "      <td>2020-01-09</td>\n",
       "      <td>AR</td>\n",
       "      <td>Argentina</td>\n",
       "      <td>0.0</td>\n",
       "      <td>0.0</td>\n",
       "      <td>48.0</td>\n",
       "      <td>0.0</td>\n",
       "      <td>NaN</td>\n",
       "      <td>44938712.0</td>\n",
       "      <td>...</td>\n",
       "      <td>15057273.0</td>\n",
       "      <td>2690269.0</td>\n",
       "      <td>55032.0</td>\n",
       "      <td>76.52</td>\n",
       "      <td>147.086</td>\n",
       "      <td>79.483</td>\n",
       "      <td>26.6</td>\n",
       "      <td>15.8</td>\n",
       "      <td>NaN</td>\n",
       "      <td>NaN</td>\n",
       "    </tr>\n",
       "    <tr>\n",
       "      <th>9</th>\n",
       "      <td>AR</td>\n",
       "      <td>2020-01-10</td>\n",
       "      <td>AR</td>\n",
       "      <td>Argentina</td>\n",
       "      <td>1.0</td>\n",
       "      <td>0.0</td>\n",
       "      <td>49.0</td>\n",
       "      <td>0.0</td>\n",
       "      <td>NaN</td>\n",
       "      <td>44938712.0</td>\n",
       "      <td>...</td>\n",
       "      <td>15057273.0</td>\n",
       "      <td>2690269.0</td>\n",
       "      <td>55032.0</td>\n",
       "      <td>76.52</td>\n",
       "      <td>147.086</td>\n",
       "      <td>79.483</td>\n",
       "      <td>26.6</td>\n",
       "      <td>15.8</td>\n",
       "      <td>NaN</td>\n",
       "      <td>NaN</td>\n",
       "    </tr>\n",
       "  </tbody>\n",
       "</table>\n",
       "<p>10 rows × 50 columns</p>\n",
       "</div>"
      ],
      "text/plain": [
       "  location_key        date country_code country_name  new_confirmed  \\\n",
       "0           AR  2020-01-01           AR    Argentina            3.0   \n",
       "1           AR  2020-01-02           AR    Argentina           14.0   \n",
       "2           AR  2020-01-03           AR    Argentina            3.0   \n",
       "3           AR  2020-01-04           AR    Argentina            7.0   \n",
       "4           AR  2020-01-05           AR    Argentina            5.0   \n",
       "5           AR  2020-01-06           AR    Argentina            9.0   \n",
       "6           AR  2020-01-07           AR    Argentina            4.0   \n",
       "7           AR  2020-01-08           AR    Argentina            3.0   \n",
       "8           AR  2020-01-09           AR    Argentina            0.0   \n",
       "9           AR  2020-01-10           AR    Argentina            1.0   \n",
       "\n",
       "   new_deceased  cumulative_confirmed  cumulative_deceased  \\\n",
       "0           0.0                   3.0                  0.0   \n",
       "1           0.0                  17.0                  0.0   \n",
       "2           0.0                  20.0                  0.0   \n",
       "3           0.0                  27.0                  0.0   \n",
       "4           0.0                  32.0                  0.0   \n",
       "5           0.0                  41.0                  0.0   \n",
       "6           0.0                  45.0                  0.0   \n",
       "7           0.0                  48.0                  0.0   \n",
       "8           0.0                  48.0                  0.0   \n",
       "9           0.0                  49.0                  0.0   \n",
       "\n",
       "   cumulative_vaccine_doses_administered  population  ...  \\\n",
       "0                                    NaN  44938712.0  ...   \n",
       "1                                    NaN  44938712.0  ...   \n",
       "2                                    NaN  44938712.0  ...   \n",
       "3                                    NaN  44938712.0  ...   \n",
       "4                                    NaN  44938712.0  ...   \n",
       "5                                    NaN  44938712.0  ...   \n",
       "6                                    NaN  44938712.0  ...   \n",
       "7                                    NaN  44938712.0  ...   \n",
       "8                                    NaN  44938712.0  ...   \n",
       "9                                    NaN  44938712.0  ...   \n",
       "\n",
       "   population_largest_city  area_rural_sq_km  area_urban_sq_km  \\\n",
       "0               15057273.0         2690269.0           55032.0   \n",
       "1               15057273.0         2690269.0           55032.0   \n",
       "2               15057273.0         2690269.0           55032.0   \n",
       "3               15057273.0         2690269.0           55032.0   \n",
       "4               15057273.0         2690269.0           55032.0   \n",
       "5               15057273.0         2690269.0           55032.0   \n",
       "6               15057273.0         2690269.0           55032.0   \n",
       "7               15057273.0         2690269.0           55032.0   \n",
       "8               15057273.0         2690269.0           55032.0   \n",
       "9               15057273.0         2690269.0           55032.0   \n",
       "\n",
       "   life_expectancy  adult_male_mortality_rate  adult_female_mortality_rate  \\\n",
       "0            76.52                    147.086                       79.483   \n",
       "1            76.52                    147.086                       79.483   \n",
       "2            76.52                    147.086                       79.483   \n",
       "3            76.52                    147.086                       79.483   \n",
       "4            76.52                    147.086                       79.483   \n",
       "5            76.52                    147.086                       79.483   \n",
       "6            76.52                    147.086                       79.483   \n",
       "7            76.52                    147.086                       79.483   \n",
       "8            76.52                    147.086                       79.483   \n",
       "9            76.52                    147.086                       79.483   \n",
       "\n",
       "   pollution_mortality_rate  comorbidity_mortality_rate  new_recovered  \\\n",
       "0                      26.6                        15.8            NaN   \n",
       "1                      26.6                        15.8            NaN   \n",
       "2                      26.6                        15.8            NaN   \n",
       "3                      26.6                        15.8            NaN   \n",
       "4                      26.6                        15.8            NaN   \n",
       "5                      26.6                        15.8            NaN   \n",
       "6                      26.6                        15.8            NaN   \n",
       "7                      26.6                        15.8            NaN   \n",
       "8                      26.6                        15.8            NaN   \n",
       "9                      26.6                        15.8            NaN   \n",
       "\n",
       "   cumulative_recovered  \n",
       "0                   NaN  \n",
       "1                   NaN  \n",
       "2                   NaN  \n",
       "3                   NaN  \n",
       "4                   NaN  \n",
       "5                   NaN  \n",
       "6                   NaN  \n",
       "7                   NaN  \n",
       "8                   NaN  \n",
       "9                   NaN  \n",
       "\n",
       "[10 rows x 50 columns]"
      ]
     },
     "execution_count": 7,
     "metadata": {},
     "output_type": "execute_result"
    }
   ],
   "source": [
    "#Me muestra los primeros 10 datos de la base de datos\n",
    "data.head(10)"
   ]
  },
  {
   "cell_type": "markdown",
   "id": "395ff4b8",
   "metadata": {},
   "source": [
    "Para saber el tipo de dato de cada columna "
   ]
  },
  {
   "cell_type": "code",
   "execution_count": 8,
   "id": "e5654a0c",
   "metadata": {},
   "outputs": [
    {
     "name": "stdout",
     "output_type": "stream",
     "text": [
      "<class 'pandas.core.frame.DataFrame'>\n",
      "RangeIndex: 12216057 entries, 0 to 12216056\n",
      "Data columns (total 50 columns):\n",
      " #   Column                                 Dtype  \n",
      "---  ------                                 -----  \n",
      " 0   location_key                           object \n",
      " 1   date                                   object \n",
      " 2   country_code                           object \n",
      " 3   country_name                           object \n",
      " 4   new_confirmed                          float64\n",
      " 5   new_deceased                           float64\n",
      " 6   cumulative_confirmed                   float64\n",
      " 7   cumulative_deceased                    float64\n",
      " 8   cumulative_vaccine_doses_administered  float64\n",
      " 9   population                             float64\n",
      " 10  population_male                        float64\n",
      " 11  population_female                      float64\n",
      " 12  population_rural                       float64\n",
      " 13  population_urban                       float64\n",
      " 14  population_density                     float64\n",
      " 15  human_development_index                float64\n",
      " 16  population_age_00_09                   float64\n",
      " 17  population_age_10_19                   float64\n",
      " 18  population_age_20_29                   float64\n",
      " 19  population_age_30_39                   float64\n",
      " 20  population_age_40_49                   float64\n",
      " 21  population_age_50_59                   float64\n",
      " 22  population_age_60_69                   float64\n",
      " 23  population_age_70_79                   float64\n",
      " 24  population_age_80_and_older            float64\n",
      " 25  gdp_usd                                float64\n",
      " 26  gdp_per_capita_usd                     float64\n",
      " 27  latitude                               float64\n",
      " 28  longitude                              float64\n",
      " 29  area_sq_km                             float64\n",
      " 30  smoking_prevalence                     float64\n",
      " 31  diabetes_prevalence                    float64\n",
      " 32  infant_mortality_rate                  float64\n",
      " 33  nurses_per_1000                        float64\n",
      " 34  physicians_per_1000                    float64\n",
      " 35  average_temperature_celsius            float64\n",
      " 36  minimum_temperature_celsius            float64\n",
      " 37  maximum_temperature_celsius            float64\n",
      " 38  rainfall_mm                            float64\n",
      " 39  relative_humidity                      float64\n",
      " 40  population_largest_city                float64\n",
      " 41  area_rural_sq_km                       float64\n",
      " 42  area_urban_sq_km                       float64\n",
      " 43  life_expectancy                        float64\n",
      " 44  adult_male_mortality_rate              float64\n",
      " 45  adult_female_mortality_rate            float64\n",
      " 46  pollution_mortality_rate               float64\n",
      " 47  comorbidity_mortality_rate             float64\n",
      " 48  new_recovered                          float64\n",
      " 49  cumulative_recovered                   float64\n",
      "dtypes: float64(46), object(4)\n",
      "memory usage: 4.6+ GB\n"
     ]
    }
   ],
   "source": [
    "data.info()"
   ]
  },
  {
   "cell_type": "markdown",
   "id": "5944c77e",
   "metadata": {},
   "source": [
    "Comprueba que el dataset cargado tiene la cantidad de registros y columnas especificadas"
   ]
  },
  {
   "cell_type": "code",
   "execution_count": 9,
   "id": "cc6da289",
   "metadata": {},
   "outputs": [
    {
     "data": {
      "text/plain": [
       "(12216057, 50)"
      ]
     },
     "execution_count": 9,
     "metadata": {},
     "output_type": "execute_result"
    }
   ],
   "source": [
    "#Me muestra cuantas filas y columnas tengo ( para corroborar que es correcto el dataset con el que estoy trabajando)\n",
    "data.shape"
   ]
  },
  {
   "cell_type": "code",
   "execution_count": 7,
   "id": "d2ecce61",
   "metadata": {},
   "outputs": [
    {
     "data": {
      "text/plain": [
       "pandas.core.frame.DataFrame"
      ]
     },
     "execution_count": 7,
     "metadata": {},
     "output_type": "execute_result"
    }
   ],
   "source": [
    "#para saber con que tipo de dato estoy trabajando\n",
    "type(data)"
   ]
  },
  {
   "cell_type": "code",
   "execution_count": 10,
   "id": "cb4e0274",
   "metadata": {},
   "outputs": [
    {
     "data": {
      "text/plain": [
       "0           Argentina\n",
       "1           Argentina\n",
       "2           Argentina\n",
       "3           Argentina\n",
       "4           Argentina\n",
       "              ...    \n",
       "12216052    Venezuela\n",
       "12216053    Venezuela\n",
       "12216054    Venezuela\n",
       "12216055    Venezuela\n",
       "12216056    Venezuela\n",
       "Name: country_name, Length: 12216057, dtype: object"
      ]
     },
     "execution_count": 10,
     "metadata": {},
     "output_type": "execute_result"
    }
   ],
   "source": [
    "data['country_name']"
   ]
  },
  {
   "cell_type": "code",
   "execution_count": 11,
   "id": "ac2d347d",
   "metadata": {},
   "outputs": [
    {
     "data": {
      "text/plain": [
       "array(['Argentina', 'Bolivia', 'Brazil', 'Chile', 'Colombia',\n",
       "       'Costa Rica', 'Cuba', 'Dominican Republic', 'Ecuador', 'Guatemala',\n",
       "       'Honduras', 'Mexico', 'Nicaragua', 'Panama', 'Peru', 'Puerto Rico',\n",
       "       'Paraguay', 'El Salvador', 'Uruguay', 'Venezuela'], dtype=object)"
      ]
     },
     "execution_count": 11,
     "metadata": {},
     "output_type": "execute_result"
    }
   ],
   "source": [
    "#Por si quiero ver los distintos paises que tiene el dataset\n",
    "data['country_name'].unique()"
   ]
  },
  {
   "cell_type": "markdown",
   "id": "01af0d3a",
   "metadata": {},
   "source": [
    "Selecciona los países donde se expandirán: Colombia, Argentina, Chile, México, Perú y Brasil."
   ]
  },
  {
   "cell_type": "code",
   "execution_count": 12,
   "id": "f7bc5c82",
   "metadata": {},
   "outputs": [],
   "source": [
    "#creo una lista con los paises seleccionados\n",
    "Paises_seleccionados = [\"Argentina\", \"Chile\", \"Colombia\", \"Mexico\", \"Peru\" , \"Brazil\"]\n",
    "#Luego creo una mascara con la funcion isin que filtra los paises seleccionados y los guarda en data_latinoamerica\n",
    "data_latinoamerica = data[data['country_name'].isin(Paises_seleccionados)]\n"
   ]
  },
  {
   "cell_type": "markdown",
   "id": "5421b8f2",
   "metadata": {},
   "source": [
    "Verifico que me hayan quedado los 5 paises seleccionados"
   ]
  },
  {
   "cell_type": "code",
   "execution_count": 13,
   "id": "c07e2013",
   "metadata": {},
   "outputs": [
    {
     "data": {
      "text/plain": [
       "array(['Argentina', 'Brazil', 'Chile', 'Colombia', 'Mexico', 'Peru'],\n",
       "      dtype=object)"
      ]
     },
     "execution_count": 13,
     "metadata": {},
     "output_type": "execute_result"
    }
   ],
   "source": [
    "data_latinoamerica['country_name'].unique()\n"
   ]
  },
  {
   "cell_type": "markdown",
   "id": "7d08a65a",
   "metadata": {},
   "source": [
    "Filtra los datos en fechas mayores a 2021-01-01."
   ]
  },
  {
   "cell_type": "code",
   "execution_count": 14,
   "id": "739312ce",
   "metadata": {},
   "outputs": [
    {
     "name": "stderr",
     "output_type": "stream",
     "text": [
      "C:\\Users\\usuario\\AppData\\Local\\Temp\\ipykernel_15540\\3930735150.py:2: SettingWithCopyWarning: \n",
      "A value is trying to be set on a copy of a slice from a DataFrame.\n",
      "Try using .loc[row_indexer,col_indexer] = value instead\n",
      "\n",
      "See the caveats in the documentation: https://pandas.pydata.org/pandas-docs/stable/user_guide/indexing.html#returning-a-view-versus-a-copy\n",
      "  data_latinoamerica['date']=pd.to_datetime(data_latinoamerica['date'])\n"
     ]
    },
    {
     "data": {
      "text/plain": [
       "0          2020-01-01\n",
       "1          2020-01-02\n",
       "2          2020-01-03\n",
       "3          2020-01-04\n",
       "4          2020-01-05\n",
       "              ...    \n",
       "12136772   2022-09-13\n",
       "12136773   2022-09-14\n",
       "12136774   2022-09-15\n",
       "12136775   2022-09-16\n",
       "12136776   2022-09-17\n",
       "Name: date, Length: 11970289, dtype: datetime64[ns]"
      ]
     },
     "execution_count": 14,
     "metadata": {},
     "output_type": "execute_result"
    }
   ],
   "source": [
    "#La fecha esta en objet, entonces lo cambiamos a formato Date antes de filtrar \n",
    "data_latinoamerica['date']=pd.to_datetime(data_latinoamerica['date'])\n",
    "data_latinoamerica['date']"
   ]
  },
  {
   "cell_type": "code",
   "execution_count": 15,
   "id": "c07c8e28",
   "metadata": {},
   "outputs": [
    {
     "data": {
      "text/plain": [
       "(7692048, 50)"
      ]
     },
     "execution_count": 15,
     "metadata": {},
     "output_type": "execute_result"
    }
   ],
   "source": [
    "# filtramos los datos mayores al 01/01/2021 y .shape para que me muestre ctas filas y columnas tengo \n",
    "\n",
    "data_latinoamerica = data[data[\"date\"] > \"2021-01-01\" ]\n",
    "data_latinoamerica.shape"
   ]
  },
  {
   "cell_type": "markdown",
   "id": "a3a8fd18",
   "metadata": {},
   "source": [
    "Bloque 1- Limpieza Preliminar"
   ]
  },
  {
   "cell_type": "markdown",
   "id": "1bee3812",
   "metadata": {},
   "source": [
    "Contar valores nulos"
   ]
  },
  {
   "cell_type": "code",
   "execution_count": 17,
   "id": "7fcb9fb2",
   "metadata": {},
   "outputs": [
    {
     "name": "stdout",
     "output_type": "stream",
     "text": [
      "Cantidad de valores nulos por columna:\n",
      "location_key                                   0\n",
      "date                                           0\n",
      "country_code                                   0\n",
      "country_name                                   0\n",
      "new_confirmed                            3298688\n",
      "new_deceased                             3308615\n",
      "cumulative_confirmed                     3298688\n",
      "cumulative_deceased                      3308615\n",
      "cumulative_vaccine_doses_administered    7425051\n",
      "population                                335088\n",
      "population_male                           707616\n",
      "population_female                         707616\n",
      "population_rural                         7679568\n",
      "population_urban                         7679568\n",
      "population_density                       7679568\n",
      "human_development_index                  4221984\n",
      "population_age_00_09                      923520\n",
      "population_age_10_19                      923520\n",
      "population_age_20_29                      923520\n",
      "population_age_30_39                      923520\n",
      "population_age_40_49                      923520\n",
      "population_age_50_59                      923520\n",
      "population_age_60_69                      923520\n",
      "population_age_70_79                      923520\n",
      "population_age_80_and_older               923520\n",
      "gdp_usd                                  7679568\n",
      "gdp_per_capita_usd                       7678944\n",
      "latitude                                  265824\n",
      "longitude                                 265824\n",
      "area_sq_km                               1186224\n",
      "smoking_prevalence                       7682688\n",
      "diabetes_prevalence                      7679568\n",
      "infant_mortality_rate                    7680192\n",
      "nurses_per_1000                          7680192\n",
      "physicians_per_1000                      7680816\n",
      "average_temperature_celsius               367599\n",
      "minimum_temperature_celsius               367671\n",
      "maximum_temperature_celsius               367653\n",
      "rainfall_mm                               420570\n",
      "relative_humidity                         368109\n",
      "population_largest_city                  7679568\n",
      "area_rural_sq_km                         7680816\n",
      "area_urban_sq_km                         7680816\n",
      "life_expectancy                          7679568\n",
      "adult_male_mortality_rate                7679568\n",
      "adult_female_mortality_rate              7679568\n",
      "pollution_mortality_rate                 7680192\n",
      "comorbidity_mortality_rate               7680192\n",
      "new_recovered                            6626363\n",
      "cumulative_recovered                     6626983\n",
      "dtype: int64\n"
     ]
    }
   ],
   "source": [
    "# 1- Contamos los valores nulos de las columnas\n",
    "valores_nulos = data_latinoamerica.isnull().sum() #cuenta los valores faltantes (NaN).\n",
    "print(\"Cantidad de valores nulos por columna:\")\n",
    "print(valores_nulos)"
   ]
  },
  {
   "cell_type": "markdown",
   "id": "4fa0b389",
   "metadata": {},
   "source": [
    "Contar valores no nulos"
   ]
  },
  {
   "cell_type": "code",
   "execution_count": 18,
   "id": "b8830b14",
   "metadata": {},
   "outputs": [
    {
     "name": "stdout",
     "output_type": "stream",
     "text": [
      "Cantidad de valores no nulos por columna:\n",
      "location_key                             7692048\n",
      "date                                     7692048\n",
      "country_code                             7692048\n",
      "country_name                             7692048\n",
      "new_confirmed                            4393360\n",
      "new_deceased                             4383433\n",
      "cumulative_confirmed                     4393360\n",
      "cumulative_deceased                      4383433\n",
      "cumulative_vaccine_doses_administered     266997\n",
      "population                               7356960\n",
      "population_male                          6984432\n",
      "population_female                        6984432\n",
      "population_rural                           12480\n",
      "population_urban                           12480\n",
      "population_density                         12480\n",
      "human_development_index                  3470064\n",
      "population_age_00_09                     6768528\n",
      "population_age_10_19                     6768528\n",
      "population_age_20_29                     6768528\n",
      "population_age_30_39                     6768528\n",
      "population_age_40_49                     6768528\n",
      "population_age_50_59                     6768528\n",
      "population_age_60_69                     6768528\n",
      "population_age_70_79                     6768528\n",
      "population_age_80_and_older              6768528\n",
      "gdp_usd                                    12480\n",
      "gdp_per_capita_usd                         13104\n",
      "latitude                                 7426224\n",
      "longitude                                7426224\n",
      "area_sq_km                               6505824\n",
      "smoking_prevalence                          9360\n",
      "diabetes_prevalence                        12480\n",
      "infant_mortality_rate                      11856\n",
      "nurses_per_1000                            11856\n",
      "physicians_per_1000                        11232\n",
      "average_temperature_celsius              7324449\n",
      "minimum_temperature_celsius              7324377\n",
      "maximum_temperature_celsius              7324395\n",
      "rainfall_mm                              7271478\n",
      "relative_humidity                        7323939\n",
      "population_largest_city                    12480\n",
      "area_rural_sq_km                           11232\n",
      "area_urban_sq_km                           11232\n",
      "life_expectancy                            12480\n",
      "adult_male_mortality_rate                  12480\n",
      "adult_female_mortality_rate                12480\n",
      "pollution_mortality_rate                   11856\n",
      "comorbidity_mortality_rate                 11856\n",
      "new_recovered                            1065685\n",
      "cumulative_recovered                     1065065\n",
      "dtype: int64\n"
     ]
    }
   ],
   "source": [
    "# 2- Contamos los valores no nulos que tienen las columnas \n",
    "valores_no_nulos = data_latinoamerica.notnull().sum() ##cuenta los valores presentes (datos válidos).\n",
    "print(\"Cantidad de valores no nulos por columna:\")\n",
    "print(valores_no_nulos)"
   ]
  },
  {
   "cell_type": "markdown",
   "id": "4d567dc9",
   "metadata": {},
   "source": [
    "Verificamos el tipo de elemento que tienen las columnas location_key y country code y country name"
   ]
  },
  {
   "cell_type": "code",
   "execution_count": 21,
   "id": "b528587d",
   "metadata": {},
   "outputs": [
    {
     "name": "stdout",
     "output_type": "stream",
     "text": [
      "         location_key country_code country_name\n",
      "367                AR           AR    Argentina\n",
      "1358             AR_A           AR    Argentina\n",
      "2349         AR_A_007           AR    Argentina\n",
      "3340         AR_A_014           AR    Argentina\n",
      "4331         AR_A_021           AR    Argentina\n",
      "...               ...          ...          ...\n",
      "12211469         VE_U           VE    Venezuela\n",
      "12212460         VE_V           VE    Venezuela\n",
      "12213451         VE_X           VE    Venezuela\n",
      "12214442         VE_Y           VE    Venezuela\n",
      "12215433         VE_Z           VE    Venezuela\n",
      "\n",
      "[12327 rows x 3 columns]\n"
     ]
    }
   ],
   "source": [
    "columnas_relevantes = ['location_key', 'country_code', 'country_name']\n",
    "datos_unicos = data_latinoamerica[columnas_relevantes].drop_duplicates()\n",
    "\n",
    "print(datos_unicos)"
   ]
  },
  {
   "cell_type": "markdown",
   "id": "10265d87",
   "metadata": {},
   "source": [
    "realizamos un conteo de los valores unicos de la columna location key"
   ]
  },
  {
   "cell_type": "code",
   "execution_count": 21,
   "id": "daa53ef4",
   "metadata": {},
   "outputs": [
    {
     "data": {
      "text/plain": [
       "location_key\n",
       "AR          624\n",
       "AR_A        624\n",
       "AR_A_007    624\n",
       "AR_A_014    624\n",
       "AR_A_021    624\n",
       "           ... \n",
       "VE_U        624\n",
       "VE_V        624\n",
       "VE_X        624\n",
       "VE_Y        624\n",
       "VE_Z        624\n",
       "Name: count, Length: 12327, dtype: int64"
      ]
     },
     "execution_count": 21,
     "metadata": {},
     "output_type": "execute_result"
    }
   ],
   "source": [
    "data_latinoamerica[\"location_key\"].value_counts()"
   ]
  },
  {
   "cell_type": "markdown",
   "id": "bf4d5688",
   "metadata": {},
   "source": [
    "Podemos apreciar la cantidad de valores repetidos entro de estas filas, por esta razon filtramos la columna 'location_key' por los siguientes valores \"AR\", \"BR\", \"CO\", \"CL\", \"MX\", \"PE\", que son los valores por país dejando de lado el analisis perticular de cada region dentro de estos. "
   ]
  },
  {
   "cell_type": "code",
   "execution_count": 24,
   "id": "f95d7e8b",
   "metadata": {},
   "outputs": [
    {
     "name": "stdout",
     "output_type": "stream",
     "text": [
      "         location_key        date country_code country_name  new_confirmed  \\\n",
      "367                AR  2021-01-02           AR    Argentina         7767.0   \n",
      "368                AR  2021-01-03           AR    Argentina         4934.0   \n",
      "369                AR  2021-01-04           AR    Argentina        13953.0   \n",
      "370                AR  2021-01-05           AR    Argentina        14085.0   \n",
      "371                AR  2021-01-06           AR    Argentina        14496.0   \n",
      "...               ...         ...          ...          ...            ...   \n",
      "10253872           PE  2022-09-13           PE         Peru         1150.0   \n",
      "10253873           PE  2022-09-14           PE         Peru            NaN   \n",
      "10253874           PE  2022-09-15           PE         Peru            NaN   \n",
      "10253875           PE  2022-09-16           PE         Peru            NaN   \n",
      "10253876           PE  2022-09-17           PE         Peru            NaN   \n",
      "\n",
      "          new_deceased  cumulative_confirmed  cumulative_deceased  \\\n",
      "367              166.0             1670634.0              46688.0   \n",
      "368              157.0             1675568.0              46845.0   \n",
      "369              157.0             1689521.0              47002.0   \n",
      "370              160.0             1703606.0              47162.0   \n",
      "371              131.0             1718102.0              47293.0   \n",
      "...                ...                   ...                  ...   \n",
      "10253872          22.0             4127612.0             216173.0   \n",
      "10253873           NaN                   NaN                  NaN   \n",
      "10253874           NaN                   NaN                  NaN   \n",
      "10253875           NaN                   NaN                  NaN   \n",
      "10253876           NaN                   NaN                  NaN   \n",
      "\n",
      "          cumulative_vaccine_doses_administered  population  ...  \\\n",
      "367                                     20334.0  44938712.0  ...   \n",
      "368                                     20529.0  44938712.0  ...   \n",
      "369                                     25164.0  44938712.0  ...   \n",
      "370                                     29852.0  44938712.0  ...   \n",
      "371                                     34162.0  44938712.0  ...   \n",
      "...                                         ...         ...  ...   \n",
      "10253872                                    NaN  29381884.0  ...   \n",
      "10253873                                    NaN  29381884.0  ...   \n",
      "10253874                                    NaN  29381884.0  ...   \n",
      "10253875                                    NaN  29381884.0  ...   \n",
      "10253876                                    NaN  29381884.0  ...   \n",
      "\n",
      "          population_largest_city  area_rural_sq_km  area_urban_sq_km  \\\n",
      "367                    15057273.0         2690269.0           55032.0   \n",
      "368                    15057273.0         2690269.0           55032.0   \n",
      "369                    15057273.0         2690269.0           55032.0   \n",
      "370                    15057273.0         2690269.0           55032.0   \n",
      "371                    15057273.0         2690269.0           55032.0   \n",
      "...                           ...               ...               ...   \n",
      "10253872               10554712.0         1256339.0           16425.0   \n",
      "10253873               10554712.0         1256339.0           16425.0   \n",
      "10253874               10554712.0         1256339.0           16425.0   \n",
      "10253875               10554712.0         1256339.0           16425.0   \n",
      "10253876               10554712.0         1256339.0           16425.0   \n",
      "\n",
      "          life_expectancy  adult_male_mortality_rate  \\\n",
      "367                76.520                    147.086   \n",
      "368                76.520                    147.086   \n",
      "369                76.520                    147.086   \n",
      "370                76.520                    147.086   \n",
      "371                76.520                    147.086   \n",
      "...                   ...                        ...   \n",
      "10253872           76.516                    146.370   \n",
      "10253873           76.516                    146.370   \n",
      "10253874           76.516                    146.370   \n",
      "10253875           76.516                    146.370   \n",
      "10253876           76.516                    146.370   \n",
      "\n",
      "          adult_female_mortality_rate  pollution_mortality_rate  \\\n",
      "367                            79.483                      26.6   \n",
      "368                            79.483                      26.6   \n",
      "369                            79.483                      26.6   \n",
      "370                            79.483                      26.6   \n",
      "371                            79.483                      26.6   \n",
      "...                               ...                       ...   \n",
      "10253872                       84.815                      63.9   \n",
      "10253873                       84.815                      63.9   \n",
      "10253874                       84.815                      63.9   \n",
      "10253875                       84.815                      63.9   \n",
      "10253876                       84.815                      63.9   \n",
      "\n",
      "          comorbidity_mortality_rate  new_recovered  cumulative_recovered  \n",
      "367                             15.8            NaN                   NaN  \n",
      "368                             15.8            NaN                   NaN  \n",
      "369                             15.8            NaN                   NaN  \n",
      "370                             15.8            NaN                   NaN  \n",
      "371                             15.8            NaN                   NaN  \n",
      "...                              ...            ...                   ...  \n",
      "10253872                        12.6            NaN                   NaN  \n",
      "10253873                        12.6            NaN                   NaN  \n",
      "10253874                        12.6            NaN                   NaN  \n",
      "10253875                        12.6            NaN                   NaN  \n",
      "10253876                        12.6            NaN                   NaN  \n",
      "\n",
      "[3744 rows x 50 columns]\n"
     ]
    }
   ],
   "source": [
    "# Primer filtro: quedarse solo con los países de interés\n",
    "data_latinoamerica = data_latinoamerica[data_latinoamerica[\"country_name\"].isin(Paises_seleccionados)]\n",
    "data_latinoamerica\n",
    "\n",
    "# Segundo filtro: quedarse solo con los datos agregados a nivel nacional\n",
    "data_latinoamerica = data_latinoamerica[data_latinoamerica[\"location_key\"].isin([\"AR\", \"BR\", \"CO\", \"CL\", \"MX\", \"PE\"])]\n",
    "print(data_latinoamerica)"
   ]
  },
  {
   "cell_type": "markdown",
   "id": "41b24177",
   "metadata": {},
   "source": [
    "Con esto nos aseguramos de que los datos sean a nivel nacional, eliminando los valores redundantes de provincias o regiones.\n",
    "Después de esto ya tiene sentido eliminar location_key y country_code, porque country_name alcanza para identificar cada país. Entonces procedemos con la eliminacion de las 2 columnas. "
   ]
  },
  {
   "cell_type": "code",
   "execution_count": 23,
   "id": "fe453a1b",
   "metadata": {},
   "outputs": [],
   "source": [
    "# eliminamos las columnas 'location_key' y 'country_code'\n",
    "data_latinoamerica = data_latinoamerica.drop(columns=['location_key', 'country_code'])"
   ]
  },
  {
   "cell_type": "code",
   "execution_count": 24,
   "id": "814e7563",
   "metadata": {},
   "outputs": [
    {
     "data": {
      "text/plain": [
       "(3744, 48)"
      ]
     },
     "execution_count": 24,
     "metadata": {},
     "output_type": "execute_result"
    }
   ],
   "source": [
    "#verificamos la cantidad de datos que nos quedaron \n",
    "data_latinoamerica.shape"
   ]
  },
  {
   "cell_type": "markdown",
   "id": "d6a2006d",
   "metadata": {},
   "source": [
    "Se rellenan los valores faltantes (NaN) de las columnas new_recivered, new_deceased y new_confirmed con ceros"
   ]
  },
  {
   "cell_type": "code",
   "execution_count": 25,
   "id": "9ed5d671",
   "metadata": {},
   "outputs": [],
   "source": [
    "# Rellenar los valores nulos en las columnas 'new_recovered', 'new_deceased' y 'new_confirmed' con ceros\n",
    "data_latinoamerica['new_recovered'] = data_latinoamerica['new_recovered'].fillna(0)\n",
    "data_latinoamerica['new_deceased'] = data_latinoamerica['new_deceased'].fillna(0)\n",
    "data_latinoamerica['new_confirmed'] = data_latinoamerica['new_confirmed'].fillna(0)"
   ]
  },
  {
   "cell_type": "markdown",
   "id": "19879963",
   "metadata": {},
   "source": [
    "Ademas completamos la columna new_recovered con el promedio de cada pais para mantener coherencia y diferencias entre paises "
   ]
  },
  {
   "cell_type": "code",
   "execution_count": 25,
   "id": "4a3b93cd",
   "metadata": {},
   "outputs": [
    {
     "name": "stdout",
     "output_type": "stream",
     "text": [
      "Cantidad de valores nulos en 'new_recovered' después de llenarlos: 2116\n"
     ]
    }
   ],
   "source": [
    "# Calcula el promedio de 'new_recovered' por país\n",
    "promedio_recuperados_por_pais = data_latinoamerica.groupby('country_name')['new_recovered'].mean()\n",
    "\n",
    "# Rellena los valores nulos en 'new_recovered' con el promedio específico para cada país\n",
    "for pais in data_latinoamerica['country_name'].unique():\n",
    "    mask = (data_latinoamerica['country_name'] == pais)\n",
    "    data_latinoamerica.loc[mask, 'new_recovered'].fillna(promedio_recuperados_por_pais[pais], inplace=True)\n",
    "\n",
    "# Verifica si los valores nulos se han llenado correctamente\n",
    "nulos_new_recovered = data_latinoamerica['new_recovered'].isnull().sum()\n",
    "print(\"Cantidad de valores nulos en 'new_recovered' después de llenarlos:\", nulos_new_recovered)"
   ]
  },
  {
   "cell_type": "markdown",
   "id": "0f4bb583",
   "metadata": {},
   "source": [
    "Guardamos el archivo con la limpieza que realizamos "
   ]
  },
  {
   "cell_type": "code",
   "execution_count": 26,
   "id": "4ac9b183",
   "metadata": {},
   "outputs": [],
   "source": [
    "# Guardamos el dataset ya transformado\n",
    "data_latinoamerica.to_csv('data_latinoamerica_clean.csv', index=False)"
   ]
  }
 ],
 "metadata": {
  "kernelspec": {
   "display_name": "Python 3",
   "language": "python",
   "name": "python3"
  },
  "language_info": {
   "codemirror_mode": {
    "name": "ipython",
    "version": 3
   },
   "file_extension": ".py",
   "mimetype": "text/x-python",
   "name": "python",
   "nbconvert_exporter": "python",
   "pygments_lexer": "ipython3",
   "version": "3.13.7"
  }
 },
 "nbformat": 4,
 "nbformat_minor": 5
}
